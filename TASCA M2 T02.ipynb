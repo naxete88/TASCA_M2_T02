{
 "cells": [
  {
   "cell_type": "markdown",
   "id": "bc37a609",
   "metadata": {},
   "source": [
    "# Exercicis"
   ]
  },
  {
   "cell_type": "markdown",
   "id": "eb665f29",
   "metadata": {},
   "source": [
    "## Exercici 1\n",
    "L'exercici consisteix a crear un programa que et classifiqui una variable numèrica en funció de l’escala Suspès/Aprovat/Notable/Excel·lent.\n",
    "Recorda que Suspès < 5, Aprovat > 5 i < 7, Notable > 7 i < 9 i Excel·lent > 9."
   ]
  },
  {
   "cell_type": "code",
   "execution_count": 1,
   "id": "7b02be2b",
   "metadata": {},
   "outputs": [
    {
     "name": "stdout",
     "output_type": "stream",
     "text": [
      "Introdueix un número: 3\n",
      "Suspès\n"
     ]
    }
   ],
   "source": [
    "# demano número\n",
    "\n",
    "number = float(input(\"Introdueix un número: \"))\n",
    "\n",
    "# defineixo funció perque retorni el resultat\n",
    "\n",
    "def resultat(number):\n",
    "    if number < 5:\n",
    "         print(\"Suspès\")\n",
    "    elif number < 7:\n",
    "         print(\"Aprovat\")\n",
    "    elif number < 9:\n",
    "         print(\"Notable\")\n",
    "    elif number <= 10:\n",
    "         print(\"Excel-lent\")\n",
    "    elif number > 10:\n",
    "         print(\"La nota introduïda no és correcta\")\n",
    "\n",
    "# crido funció\n",
    "\n",
    "resultat(number)\n",
    "\n"
   ]
  },
  {
   "cell_type": "markdown",
   "id": "779fe905",
   "metadata": {},
   "source": [
    "## Exercici 2\n",
    "Utilitzant el següent tutorial crea un programa que et pregunti dos números. T’ha de mostrar un missatge dient si el primer és més gran, el segon és més gran o són iguals."
   ]
  },
  {
   "cell_type": "code",
   "execution_count": 2,
   "id": "4404fe0b",
   "metadata": {},
   "outputs": [
    {
     "name": "stdout",
     "output_type": "stream",
     "text": [
      "Introdueix el primer número: 2\n",
      "Introdueix el segon número 7\n",
      "El segon número és més gran que el primer\n"
     ]
    }
   ],
   "source": [
    "# faig les preguntes\n",
    "\n",
    "number1 = int(input(\"Introdueix el primer número: \"))\n",
    "number2 = int(input(\"Introdueix el segon número \"))\n",
    "\n",
    "#funció perquè retorni resultat segons la nota\n",
    "\n",
    "def resultat(number1,number2):\n",
    "    if number1 == number2:\n",
    "        print(\"Els dos números són iguals\")\n",
    "    elif number1 > number2:\n",
    "        print(\"El primer número és més gran que el segon\")\n",
    "    elif number2 > number1:\n",
    "        print(\"El segon número és més gran que el primer\")\n",
    "        \n",
    "# crido funció\n",
    "    \n",
    "resultat(number1,number2)"
   ]
  },
  {
   "cell_type": "markdown",
   "id": "fad9462e",
   "metadata": {},
   "source": [
    "## Exercici 3\n",
    "Crea un programa que et pregunti el teu nom, i et demani un número. Si el número és 0, hauria de mostrar un missatge d’error. En cas contrari, hauria de mostrar el nom repetit tants cops com indiqui el número. Per exemple, “Joan Joan Joan”."
   ]
  },
  {
   "cell_type": "code",
   "execution_count": 3,
   "id": "4a983455",
   "metadata": {},
   "outputs": [
    {
     "name": "stdout",
     "output_type": "stream",
     "text": [
      "Introdueix el teu nom Nacho\n",
      "Introdueix un número 5\n",
      "NachoNachoNachoNachoNacho\n"
     ]
    }
   ],
   "source": [
    "# demano nom i número\n",
    "\n",
    "nom = input(\"Introdueix el teu nom \")\n",
    "number = int(input(\"Introdueix un número \"))\n",
    "\n",
    "# defineixo funció\n",
    "\n",
    "def impresió (nom,number):\n",
    "    print(nom*number)\n",
    "\n",
    "# crido funció\n",
    "\n",
    "impresió(nom,number)"
   ]
  },
  {
   "cell_type": "markdown",
   "id": "c501ea0d",
   "metadata": {},
   "source": [
    "## Exercici 4\n",
    "Crea un programa que donada una llista qualsevol, et digui si és simètrica o no. Si ho és, que et digui quants elements té."
   ]
  },
  {
   "cell_type": "code",
   "execution_count": 4,
   "id": "8ff684f8",
   "metadata": {},
   "outputs": [
    {
     "name": "stdout",
     "output_type": "stream",
     "text": [
      "La llista és simètrica\n",
      "La llista té 9 elements\n"
     ]
    }
   ],
   "source": [
    "llista = [1,2,3,4,5,6,7,8,9,8,7,6,5,4,3,2,1]\n",
    "\n",
    "# creo nova llista al revés.\n",
    "\n",
    "def revers(llista):\n",
    "    llista2 = list(reversed(llista))\n",
    "    return(llista2)\n",
    "\n",
    "# defineixo el total d'elements, no repetits\n",
    "\n",
    "def elementsTotals(llista):\n",
    "    elements = len(set(llista))\n",
    "    return(elements)\n",
    "\n",
    "# defineixo funció per saber si és simétrica o no\n",
    "\n",
    "def simetria(llista, llista2):\n",
    "    if llista == llista2: \n",
    "        print('La llista és simètrica')\n",
    "        print('La llista té',elementsTotals(llista),'elements')\n",
    "    else: print('la llista no és simètrica')\n",
    "\n",
    "# crido funcions\n",
    "\n",
    "llista2 = revers(llista)\n",
    "simetria(llista,llista2)"
   ]
  },
  {
   "cell_type": "markdown",
   "id": "ab256157",
   "metadata": {},
   "source": [
    "## Exercici 5\n",
    "Crea un programa que donada una llista, et digui quants números coincideixen amb la seva posició. Per exemple [3,4,2,0,2,3,6] el 2 i el 6 coincideixen.\n",
    "\n"
   ]
  },
  {
   "cell_type": "code",
   "execution_count": 5,
   "id": "cbb29aa9",
   "metadata": {},
   "outputs": [
    {
     "name": "stdout",
     "output_type": "stream",
     "text": [
      "Els números que coincideixen són  [0, 3, 5, 8, 10, 12, 13]\n"
     ]
    }
   ],
   "source": [
    "llista = [0,2,4,3,6,5,8,10,8,14,10,20,12,13]\n",
    "coincideixen = []\n",
    "\n",
    "tamany = len(llista)-1\n",
    "\n",
    "i=0\n",
    "\n",
    "# creo funció per saber si coincideix algún número amb la seva posició\n",
    "\n",
    "def revisio(tamany,i,llista,coincideixen):\n",
    "    while i <= tamany:\n",
    "        if i == llista[i]:\n",
    "            coincideixen.append(i)\n",
    "            i +=1\n",
    "        else:\n",
    "            i +=1\n",
    "    return(coincideixen)\n",
    "\n",
    "# crido funció per saber quins números coincideixen.\n",
    "\n",
    "num_coincideixen = revisio(tamany,i,llista,coincideixen)\n",
    "\n",
    "print('Els números que coincideixen són ', num_coincideixen)"
   ]
  }
 ],
 "metadata": {
  "kernelspec": {
   "display_name": "Python 3 (ipykernel)",
   "language": "python",
   "name": "python3"
  },
  "language_info": {
   "codemirror_mode": {
    "name": "ipython",
    "version": 3
   },
   "file_extension": ".py",
   "mimetype": "text/x-python",
   "name": "python",
   "nbconvert_exporter": "python",
   "pygments_lexer": "ipython3",
   "version": "3.9.12"
  }
 },
 "nbformat": 4,
 "nbformat_minor": 5
}
